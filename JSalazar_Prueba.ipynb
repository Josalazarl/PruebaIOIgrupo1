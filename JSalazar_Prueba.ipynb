{
  "nbformat": 4,
  "nbformat_minor": 0,
  "metadata": {
    "colab": {
      "provenance": [],
      "authorship_tag": "ABX9TyNQ52W5KT9vRVH7XWQsIzsv",
      "include_colab_link": true
    },
    "kernelspec": {
      "name": "python3",
      "display_name": "Python 3"
    },
    "language_info": {
      "name": "python"
    }
  },
  "cells": [
    {
      "cell_type": "markdown",
      "metadata": {
        "id": "view-in-github",
        "colab_type": "text"
      },
      "source": [
        "<a href=\"https://colab.research.google.com/github/Josalazarl/PruebaIOIgrupo1/blob/main/JSalazar_Prueba.ipynb\" target=\"_parent\"><img src=\"https://colab.research.google.com/assets/colab-badge.svg\" alt=\"Open In Colab\"/></a>"
      ]
    },
    {
      "cell_type": "markdown",
      "source": [
        "# Mi primera vez\n",
        "\n"
      ],
      "metadata": {
        "id": "T0-vaiGgepD7"
      }
    },
    {
      "cell_type": "markdown",
      "source": [
        "## Esto es un subtitulo"
      ],
      "metadata": {
        "id": "YK8XteM8f2v_"
      }
    },
    {
      "cell_type": "code",
      "execution_count": 1,
      "metadata": {
        "colab": {
          "base_uri": "https://localhost:8080/"
        },
        "id": "59FqrJsvdKSS",
        "outputId": "dd6b13a6-1f27-46d9-a835-1ad6dc2fbff8"
      },
      "outputs": [
        {
          "output_type": "stream",
          "name": "stdout",
          "text": [
            "Hola mundo\n"
          ]
        }
      ],
      "source": [
        "print(\"Buenos días mundo\")"
      ]
    },
    {
      "cell_type": "markdown",
      "source": [
        "#Casilla de texto con lo que quiera :)"
      ],
      "metadata": {
        "id": "47zhshNNfC72"
      }
    },
    {
      "cell_type": "code",
      "source": [
        "print(\"Buenos días, Jose Manuel\")"
      ],
      "metadata": {
        "colab": {
          "base_uri": "https://localhost:8080/"
        },
        "id": "znQbdleifK7X",
        "outputId": "340bb1c9-8d1c-4fec-9070-8d4c19882739"
      },
      "execution_count": 3,
      "outputs": [
        {
          "output_type": "stream",
          "name": "stdout",
          "text": [
            "Hola, Jose Manuel\n"
          ]
        }
      ]
    }
  ]
}